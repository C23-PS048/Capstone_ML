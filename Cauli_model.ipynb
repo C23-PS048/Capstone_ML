{
  "cells": [
    {
      "cell_type": "code",
      "execution_count": 10,
      "metadata": {
        "id": "1laT8ckMNIvq"
      },
      "outputs": [],
      "source": [
        "import os\n",
        "import zipfile\n",
        "import random\n",
        "import shutil\n",
        "import tensorflow as tf\n",
        "from tensorflow.keras.applications.mobilenet import preprocess_input\n",
        "from tensorflow.keras.preprocessing.image import ImageDataGenerator\n",
        "from tensorflow.keras.models import Sequential\n",
        "from tensorflow.keras.layers import Dense, GlobalAveragePooling2D, Dropout\n",
        "from tensorflow.keras.callbacks import ModelCheckpoint, EarlyStopping, ReduceLROnPlateau\n",
        "from tensorflow.keras import regularizers"
      ]
    },
    {
      "cell_type": "code",
      "execution_count": 11,
      "metadata": {
        "colab": {
          "base_uri": "https://localhost:8080/"
        },
        "id": "qi8AHZnMNcSR",
        "outputId": "cb15d191-cf62-404c-ce1a-dafdc6cd2a0e"
      },
      "outputs": [],
      "source": [
        "# # Check if a GPU is available\n",
        "# gpu_available = tf.config.list_physical_devices('GPU')\n",
        "\n",
        "# if gpu_available:\n",
        "#     # Set TensorFlow to use GPU\n",
        "#     tf.config.experimental.set_memory_growth(gpu_available[0], True)\n",
        "#     print(\"GPU is available and configured.\")\n",
        "# else:\n",
        "#     print(\"GPU is not available.\")"
      ]
    },
    {
      "cell_type": "code",
      "execution_count": 12,
      "metadata": {
        "colab": {
          "base_uri": "https://localhost:8080/",
          "height": 90
        },
        "id": "KKR7F9ieNjG1",
        "outputId": "ef9ebc6e-820f-45e5-8933-803ec2f5bc3d"
      },
      "outputs": [],
      "source": [
        "# from google.colab import files\n",
        "# files.upload()"
      ]
    },
    {
      "cell_type": "code",
      "execution_count": 13,
      "metadata": {
        "id": "KvDXzAJuNy8g"
      },
      "outputs": [],
      "source": [
        "# !rm -r ~/.kaggle\n",
        "# !mkdir ~/.kaggle\n",
        "# !mv ./kaggle.json ~/.kaggle/\n",
        "# !chmod 600 ~/.kaggle/kaggle.json"
      ]
    },
    {
      "cell_type": "code",
      "execution_count": 14,
      "metadata": {
        "colab": {
          "base_uri": "https://localhost:8080/"
        },
        "id": "yMTD1lk4N2P2",
        "outputId": "cab3b955-0716-4e47-c73b-e0c920c9f160"
      },
      "outputs": [],
      "source": [
        "# !kaggle datasets download -d dimasirfan/plants-disease-dataset-subset -p \"/content/data\""
      ]
    },
    {
      "cell_type": "code",
      "execution_count": 15,
      "metadata": {
        "id": "48_RHVRIOBIO"
      },
      "outputs": [],
      "source": [
        "# local_zip = '/content/data/plants-disease-dataset-subset.zip'\n",
        "# zip_ref   = zipfile.ZipFile(local_zip, 'r')\n",
        "# zip_ref.extractall('/content')\n",
        "# zip_ref.close()"
      ]
    },
    {
      "attachments": {},
      "cell_type": "markdown",
      "metadata": {
        "id": "JYO14El2O2zg"
      },
      "source": [
        "# Cauliflower Model"
      ]
    },
    {
      "cell_type": "code",
      "execution_count": 16,
      "metadata": {
        "id": "NVOzdt70O7O2"
      },
      "outputs": [],
      "source": [
        "base_path = \"data/Plant Disease/Plants Disease Dataset Subset\" #Local Notebook\n",
        "source_path = os.path.join(base_path, \"Cauliflower\")\n",
        "train_path = os.path.join(source_path, \"train\")\n",
        "valid_path = os.path.join(source_path, \"valid\")"
      ]
    },
    {
      "cell_type": "code",
      "execution_count": 17,
      "metadata": {
        "id": "0xzepdkvPN9h"
      },
      "outputs": [],
      "source": [
        "image_size = (224, 224)"
      ]
    },
    {
      "cell_type": "code",
      "execution_count": 18,
      "metadata": {
        "colab": {
          "base_uri": "https://localhost:8080/"
        },
        "id": "W0eHiU-xPTpT",
        "outputId": "86b5f4b2-d187-493c-e9ec-29e98c12f211"
      },
      "outputs": [],
      "source": [
        "base_model = tf.keras.applications.mobilenet.MobileNet(\n",
        "    include_top=False, \n",
        "    weights='imagenet', \n",
        "    input_shape=(image_size[0], image_size[1], 3),\n",
        "    pooling=\"avg\"\n",
        ")"
      ]
    },
    {
      "cell_type": "code",
      "execution_count": 19,
      "metadata": {
        "id": "nc_liS0WPYRM"
      },
      "outputs": [],
      "source": [
        "# Preprocess the input images and apply augmentation\n",
        "train_datagen = ImageDataGenerator(\n",
        "    preprocessing_function=preprocess_input,\n",
        "    rotation_range=20,\n",
        "    width_shift_range=0.2,\n",
        "    height_shift_range=0.2,\n",
        "    zoom_range=0.5,\n",
        "    horizontal_flip=True,\n",
        "    vertical_flip=True,\n",
        "    shear_range=0.2,\n",
        "    channel_shift_range=0.2,\n",
        "    brightness_range=(0.5, 2),\n",
        "    fill_mode='nearest'\n",
        ")\n",
        "\n",
        "valid_datagen = ImageDataGenerator(\n",
        "    preprocessing_function=preprocess_input\n",
        ")"
      ]
    },
    {
      "cell_type": "code",
      "execution_count": 29,
      "metadata": {
        "colab": {
          "base_uri": "https://localhost:8080/"
        },
        "id": "xDXe0bUHPcyR",
        "outputId": "a53f8572-1f0b-4f5f-fe22-806c895586d6"
      },
      "outputs": [
        {
          "name": "stdout",
          "output_type": "stream",
          "text": [
            "Found 171 images belonging to 10 classes.\n",
            "Found 45 images belonging to 10 classes.\n"
          ]
        }
      ],
      "source": [
        "# Create train and validation data generators\n",
        "train_generator = train_datagen.flow_from_directory(\n",
        "    train_path,\n",
        "    target_size=image_size,\n",
        "    batch_size=4,\n",
        "    class_mode='categorical',\n",
        "    shuffle = True\n",
        ")\n",
        "\n",
        "validation_generator = valid_datagen.flow_from_directory(\n",
        "    valid_path,\n",
        "    target_size=image_size,\n",
        "    batch_size=2,\n",
        "    class_mode='categorical',\n",
        "    shuffle = False\n",
        ")"
      ]
    },
    {
      "cell_type": "code",
      "execution_count": 32,
      "metadata": {
        "colab": {
          "base_uri": "https://localhost:8080/"
        },
        "id": "_Suwh-IVPhnU",
        "outputId": "86f20f7c-3e68-4348-f266-3fbb39b5e44f"
      },
      "outputs": [
        {
          "name": "stdout",
          "output_type": "stream",
          "text": [
            "Model: \"sequential_3\"\n",
            "_________________________________________________________________\n",
            " Layer (type)                Output Shape              Param #   \n",
            "=================================================================\n",
            " mobilenet_1.00_224 (Functio  (None, 1024)             3228864   \n",
            " nal)                                                            \n",
            "                                                                 \n",
            " dense_6 (Dense)             (None, 156)               159900    \n",
            "                                                                 \n",
            " dropout_3 (Dropout)         (None, 156)               0         \n",
            "                                                                 \n",
            " dense_7 (Dense)             (None, 10)                1570      \n",
            "                                                                 \n",
            "=================================================================\n",
            "Total params: 3,390,334\n",
            "Trainable params: 161,470\n",
            "Non-trainable params: 3,228,864\n",
            "_________________________________________________________________\n"
          ]
        }
      ],
      "source": [
        "from tensorflow.keras.optimizers import RMSprop, Adam, Nadam, SGD\n",
        "\n",
        "for layer in base_model.layers:\n",
        "    layer.trainable = False\n",
        "\n",
        "with tf.device(\"GPU\"):\n",
        "    model = Sequential()\n",
        "    model.add(base_model)\n",
        "    model.add(Dense(156, activation='relu'))\n",
        "    model.add(Dropout(0.2))\n",
        "    model.add(Dense(10, activation='softmax'))\n",
        "\n",
        "# Compile the model\n",
        "learning_rate = 0.01\n",
        "optimizer = SGD(learning_rate=learning_rate)\n",
        "model.compile(optimizer=optimizer, loss='categorical_crossentropy', metrics=['accuracy'])\n",
        "\n",
        "# Print the model summary\n",
        "model.summary()"
      ]
    },
    {
      "cell_type": "code",
      "execution_count": 33,
      "metadata": {
        "colab": {
          "base_uri": "https://localhost:8080/"
        },
        "id": "3zahGxB6PzQx",
        "outputId": "a7f5c681-ab87-4e46-e7ba-6f2f120814eb"
      },
      "outputs": [
        {
          "name": "stdout",
          "output_type": "stream",
          "text": [
            "Epoch 1/50\n",
            "43/43 [==============================] - 10s 184ms/step - loss: 2.4164 - accuracy: 0.1813 - val_loss: 1.9812 - val_accuracy: 0.2667 - lr: 0.0100\n",
            "Epoch 2/50\n",
            "43/43 [==============================] - 7s 155ms/step - loss: 1.8364 - accuracy: 0.3333 - val_loss: 1.6609 - val_accuracy: 0.5111 - lr: 0.0100\n",
            "Epoch 3/50\n",
            "43/43 [==============================] - 7s 155ms/step - loss: 1.5101 - accuracy: 0.4912 - val_loss: 1.7842 - val_accuracy: 0.4444 - lr: 0.0100\n",
            "Epoch 4/50\n",
            "43/43 [==============================] - 7s 151ms/step - loss: 1.2145 - accuracy: 0.5731 - val_loss: 1.7115 - val_accuracy: 0.5333 - lr: 0.0100\n",
            "Epoch 5/50\n",
            "43/43 [==============================] - 6s 150ms/step - loss: 1.1774 - accuracy: 0.6082 - val_loss: 1.6902 - val_accuracy: 0.5111 - lr: 0.0100\n",
            "Epoch 6/50\n",
            "43/43 [==============================] - 7s 152ms/step - loss: 1.1196 - accuracy: 0.6316 - val_loss: 1.6471 - val_accuracy: 0.4667 - lr: 0.0100\n",
            "Epoch 7/50\n",
            "43/43 [==============================] - 7s 161ms/step - loss: 0.9063 - accuracy: 0.7368 - val_loss: 1.4996 - val_accuracy: 0.6000 - lr: 0.0100\n",
            "Epoch 8/50\n",
            "43/43 [==============================] - 7s 163ms/step - loss: 0.9102 - accuracy: 0.6608 - val_loss: 1.6493 - val_accuracy: 0.5333 - lr: 0.0100\n",
            "Epoch 9/50\n",
            "43/43 [==============================] - 8s 198ms/step - loss: 0.8409 - accuracy: 0.7193 - val_loss: 1.7168 - val_accuracy: 0.4889 - lr: 0.0100\n",
            "Epoch 10/50\n",
            "43/43 [==============================] - 8s 173ms/step - loss: 0.8022 - accuracy: 0.7251 - val_loss: 1.6981 - val_accuracy: 0.6000 - lr: 0.0100\n",
            "Epoch 11/50\n",
            "43/43 [==============================] - 7s 164ms/step - loss: 0.7796 - accuracy: 0.6784 - val_loss: 1.7657 - val_accuracy: 0.5778 - lr: 1.0000e-03\n",
            "Epoch 12/50\n",
            "43/43 [==============================] - 7s 165ms/step - loss: 0.5991 - accuracy: 0.7836 - val_loss: 1.8222 - val_accuracy: 0.5778 - lr: 1.0000e-03\n",
            "Epoch 13/50\n",
            "43/43 [==============================] - 7s 167ms/step - loss: 0.6141 - accuracy: 0.8187 - val_loss: 1.8290 - val_accuracy: 0.5778 - lr: 1.0000e-03\n",
            "Epoch 14/50\n",
            "43/43 [==============================] - 7s 166ms/step - loss: 0.5715 - accuracy: 0.8421 - val_loss: 1.8319 - val_accuracy: 0.5778 - lr: 1.0000e-04\n",
            "Epoch 15/50\n",
            "43/43 [==============================] - 7s 165ms/step - loss: 0.5647 - accuracy: 0.8187 - val_loss: 1.8305 - val_accuracy: 0.5778 - lr: 1.0000e-04\n",
            "Epoch 16/50\n",
            "43/43 [==============================] - 7s 166ms/step - loss: 0.6322 - accuracy: 0.7895 - val_loss: 1.8251 - val_accuracy: 0.6000 - lr: 1.0000e-04\n",
            "Epoch 17/50\n",
            "43/43 [==============================] - 7s 164ms/step - loss: 0.6384 - accuracy: 0.7661 - val_loss: 1.8253 - val_accuracy: 0.6000 - lr: 1.0000e-05\n",
            "Epoch 18/50\n",
            "43/43 [==============================] - 7s 172ms/step - loss: 0.6113 - accuracy: 0.7719 - val_loss: 1.8255 - val_accuracy: 0.6000 - lr: 1.0000e-05\n",
            "Epoch 19/50\n",
            "43/43 [==============================] - 7s 168ms/step - loss: 0.5693 - accuracy: 0.8187 - val_loss: 1.8252 - val_accuracy: 0.6000 - lr: 1.0000e-05\n",
            "Epoch 20/50\n",
            "43/43 [==============================] - 7s 167ms/step - loss: 0.5815 - accuracy: 0.8363 - val_loss: 1.8252 - val_accuracy: 0.6000 - lr: 1.0000e-06\n",
            "Epoch 21/50\n",
            "43/43 [==============================] - 7s 162ms/step - loss: 0.5784 - accuracy: 0.8246 - val_loss: 1.8253 - val_accuracy: 0.6000 - lr: 1.0000e-06\n",
            "Epoch 22/50\n",
            "43/43 [==============================] - 7s 160ms/step - loss: 0.5851 - accuracy: 0.8070 - val_loss: 1.8253 - val_accuracy: 0.6000 - lr: 1.0000e-06\n",
            "Epoch 23/50\n",
            "43/43 [==============================] - 7s 160ms/step - loss: 0.6545 - accuracy: 0.7661 - val_loss: 1.8253 - val_accuracy: 0.6000 - lr: 1.0000e-07\n",
            "Epoch 24/50\n",
            "43/43 [==============================] - 7s 159ms/step - loss: 0.5687 - accuracy: 0.8304 - val_loss: 1.8253 - val_accuracy: 0.6000 - lr: 1.0000e-07\n",
            "Epoch 25/50\n",
            "43/43 [==============================] - 7s 160ms/step - loss: 0.5859 - accuracy: 0.8304 - val_loss: 1.8253 - val_accuracy: 0.6000 - lr: 1.0000e-07\n",
            "Epoch 26/50\n",
            "43/43 [==============================] - 7s 159ms/step - loss: 0.6544 - accuracy: 0.7836 - val_loss: 1.8253 - val_accuracy: 0.6000 - lr: 1.0000e-08\n",
            "Epoch 27/50\n",
            "43/43 [==============================] - 7s 158ms/step - loss: 0.5875 - accuracy: 0.7661 - val_loss: 1.8253 - val_accuracy: 0.6000 - lr: 1.0000e-08\n",
            "Epoch 28/50\n",
            "43/43 [==============================] - 7s 153ms/step - loss: 0.6013 - accuracy: 0.7953 - val_loss: 1.8253 - val_accuracy: 0.6000 - lr: 1.0000e-08\n",
            "Epoch 29/50\n",
            "43/43 [==============================] - 8s 180ms/step - loss: 0.5854 - accuracy: 0.7778 - val_loss: 1.8253 - val_accuracy: 0.6000 - lr: 1.0000e-09\n",
            "Epoch 30/50\n",
            "43/43 [==============================] - 7s 161ms/step - loss: 0.6691 - accuracy: 0.7544 - val_loss: 1.8253 - val_accuracy: 0.6000 - lr: 1.0000e-09\n",
            "Epoch 31/50\n",
            "43/43 [==============================] - 7s 169ms/step - loss: 0.5603 - accuracy: 0.7836 - val_loss: 1.8253 - val_accuracy: 0.6000 - lr: 1.0000e-09\n",
            "Epoch 32/50\n",
            "43/43 [==============================] - 7s 162ms/step - loss: 0.5578 - accuracy: 0.8187 - val_loss: 1.8253 - val_accuracy: 0.6000 - lr: 1.0000e-10\n",
            "Epoch 33/50\n",
            "43/43 [==============================] - 8s 185ms/step - loss: 0.6312 - accuracy: 0.7895 - val_loss: 1.8253 - val_accuracy: 0.6000 - lr: 1.0000e-10\n",
            "Epoch 34/50\n",
            "43/43 [==============================] - 7s 155ms/step - loss: 0.5425 - accuracy: 0.8012 - val_loss: 1.8253 - val_accuracy: 0.6000 - lr: 1.0000e-10\n",
            "Epoch 35/50\n",
            "43/43 [==============================] - 7s 161ms/step - loss: 0.5546 - accuracy: 0.7895 - val_loss: 1.8253 - val_accuracy: 0.6000 - lr: 1.0000e-11\n",
            "Epoch 36/50\n",
            "43/43 [==============================] - 7s 167ms/step - loss: 0.5427 - accuracy: 0.8187 - val_loss: 1.8253 - val_accuracy: 0.6000 - lr: 1.0000e-11\n",
            "Epoch 37/50\n",
            "43/43 [==============================] - 7s 166ms/step - loss: 0.4708 - accuracy: 0.8304 - val_loss: 1.8253 - val_accuracy: 0.6000 - lr: 1.0000e-11\n",
            "Epoch 38/50\n",
            "43/43 [==============================] - 7s 166ms/step - loss: 0.6173 - accuracy: 0.7953 - val_loss: 1.8253 - val_accuracy: 0.6000 - lr: 1.0000e-12\n",
            "Epoch 39/50\n",
            "43/43 [==============================] - 7s 158ms/step - loss: 0.5403 - accuracy: 0.8187 - val_loss: 1.8253 - val_accuracy: 0.6000 - lr: 1.0000e-12\n",
            "Epoch 40/50\n",
            "43/43 [==============================] - 7s 157ms/step - loss: 0.6317 - accuracy: 0.7953 - val_loss: 1.8253 - val_accuracy: 0.6000 - lr: 1.0000e-12\n",
            "Epoch 41/50\n",
            "43/43 [==============================] - 7s 172ms/step - loss: 0.6975 - accuracy: 0.7602 - val_loss: 1.8253 - val_accuracy: 0.6000 - lr: 1.0000e-13\n",
            "Epoch 42/50\n",
            "43/43 [==============================] - 7s 171ms/step - loss: 0.5823 - accuracy: 0.8304 - val_loss: 1.8253 - val_accuracy: 0.6000 - lr: 1.0000e-13\n",
            "Epoch 43/50\n",
            "43/43 [==============================] - 7s 158ms/step - loss: 0.6134 - accuracy: 0.8129 - val_loss: 1.8253 - val_accuracy: 0.6000 - lr: 1.0000e-13\n",
            "Epoch 44/50\n",
            "43/43 [==============================] - 7s 168ms/step - loss: 0.5783 - accuracy: 0.7895 - val_loss: 1.8253 - val_accuracy: 0.6000 - lr: 1.0000e-14\n",
            "Epoch 45/50\n",
            "43/43 [==============================] - 8s 177ms/step - loss: 0.6251 - accuracy: 0.7719 - val_loss: 1.8253 - val_accuracy: 0.6000 - lr: 1.0000e-14\n",
            "Epoch 46/50\n",
            "43/43 [==============================] - 7s 162ms/step - loss: 0.6071 - accuracy: 0.7778 - val_loss: 1.8253 - val_accuracy: 0.6000 - lr: 1.0000e-14\n",
            "Epoch 47/50\n",
            "43/43 [==============================] - 7s 169ms/step - loss: 0.5761 - accuracy: 0.8304 - val_loss: 1.8253 - val_accuracy: 0.6000 - lr: 1.0000e-15\n",
            "Epoch 48/50\n",
            "43/43 [==============================] - 7s 154ms/step - loss: 0.5868 - accuracy: 0.8421 - val_loss: 1.8253 - val_accuracy: 0.6000 - lr: 1.0000e-15\n",
            "Epoch 49/50\n",
            "43/43 [==============================] - 7s 160ms/step - loss: 0.5220 - accuracy: 0.8596 - val_loss: 1.8253 - val_accuracy: 0.6000 - lr: 1.0000e-15\n",
            "Epoch 50/50\n",
            "43/43 [==============================] - 7s 164ms/step - loss: 0.5276 - accuracy: 0.8538 - val_loss: 1.8253 - val_accuracy: 0.6000 - lr: 1.0000e-16\n"
          ]
        }
      ],
      "source": [
        "checkpoint_callback = ModelCheckpoint('cauli_model_weights.h5', save_best_only=True, save_weights_only=True)\n",
        "early_stopping_callback = EarlyStopping(patience=5, monitor='val_accuracy', restore_best_weights=True)\n",
        "reduce_lr_callback = ReduceLROnPlateau(factor=0.1, patience=3, monitor='val_accuracy')\n",
        "\n",
        "epoch = 50\n",
        "with tf.device('GPU'):\n",
        "    history = model.fit(\n",
        "        train_generator,\n",
        "        steps_per_epoch=len(train_generator),\n",
        "        epochs=epoch,\n",
        "        validation_data=validation_generator,\n",
        "        validation_steps=len(validation_generator),\n",
        "        callbacks=[checkpoint_callback, \n",
        "                #    early_stopping_callback, \n",
        "                   reduce_lr_callback]\n",
        "    )"
      ]
    },
    {
      "cell_type": "code",
      "execution_count": 35,
      "metadata": {
        "colab": {
          "base_uri": "https://localhost:8080/",
          "height": 307
        },
        "id": "kqawFW4QP-zr",
        "outputId": "3b12e620-a952-4062-d2a2-c1d701146261"
      },
      "outputs": [
        {
          "data": {
            "image/png": "[encoded data removed]",
            "text/plain": [
              "<Figure size 1000x300 with 3 Axes>"
            ]
          },
          "metadata": {},
          "output_type": "display_data"
        }
      ],
      "source": [
        "import matplotlib.pyplot as plt\n",
        "\n",
        "# Plot the training and validation loss\n",
        "fig, axes = plt.subplots(1, 3, figsize=(10, 3))\n",
        "\n",
        "axes[0].plot(history.history['loss'])\n",
        "axes[0].plot(history.history['val_loss'])\n",
        "axes[0].set_title('Model Loss')\n",
        "axes[0].set_xlabel('Epoch')\n",
        "axes[0].set_ylabel('Loss')\n",
        "axes[0].legend(['Train', 'Validation'], loc='upper right')\n",
        "\n",
        "axes[1].plot(history.history['accuracy'])\n",
        "axes[1].plot(history.history['val_accuracy'])\n",
        "axes[1].set_title('Model Accuracy')\n",
        "axes[1].set_xlabel('Epoch')\n",
        "axes[1].set_ylabel('Accuracy')\n",
        "axes[1].legend(['Train', 'Validation'], loc='lower right')\n",
        "\n",
        "axes[2].plot(history.history['lr'])\n",
        "axes[2].set_title('Learning Rate')\n",
        "axes[2].set_xlabel('Epoch')\n",
        "axes[2].set_ylabel('Learning Rate')\n",
        "\n",
        "# Print the final training and validation accuracy\n",
        "final_train_accuracy = history.history['accuracy'][-1]\n",
        "final_val_accuracy = history.history['val_accuracy'][-1]\n",
        "axes[1].annotate(f'Train Acc: {final_train_accuracy:.4f}', xy=(len(history.history['accuracy']) - 1, final_train_accuracy), xytext=(10, 10),\n",
        "                 textcoords='offset points', arrowprops=dict(arrowstyle='->', color='black'))\n",
        "axes[1].annotate(f'Val Acc: {final_val_accuracy:.4f}', xy=(len(history.history['val_accuracy']) - 1, final_val_accuracy), xytext=(10, -30),\n",
        "                 textcoords='offset points', arrowprops=dict(arrowstyle='->', color='black'))\n",
        "\n",
        "plt.tight_layout()\n",
        "plt.show()\n"
      ]
    },
    {
      "cell_type": "code",
      "execution_count": 36,
      "metadata": {
        "colab": {
          "base_uri": "https://localhost:8080/"
        },
        "id": "MznFHkOXUtCM",
        "outputId": "d84f5c0e-e716-4bda-820e-cbc9ee0fa656"
      },
      "outputs": [
        {
          "name": "stderr",
          "output_type": "stream",
          "text": [
            "WARNING:absl:Function `_wrapped_model` contains input name(s) mobilenet_1.00_224_input with unsupported characters which will be renamed to mobilenet_1_00_224_input in the SavedModel.\n",
            "WARNING:absl:`mobilenet_1.00_224_input` is not a valid tf.function parameter name. Sanitizing to `mobilenet_1_00_224_input`.\n",
            "WARNING:absl:`mobilenet_1.00_224_input` is not a valid tf.function parameter name. Sanitizing to `mobilenet_1_00_224_input`.\n",
            "WARNING:absl:`mobilenet_1.00_224_input` is not a valid tf.function parameter name. Sanitizing to `mobilenet_1_00_224_input`.\n",
            "WARNING:absl:Found untraced functions such as _update_step_xla, _jit_compiled_convolution_op, _jit_compiled_convolution_op, _jit_compiled_convolution_op, _jit_compiled_convolution_op while saving (showing 5 of 28). These functions will not be directly callable after loading.\n"
          ]
        },
        {
          "name": "stdout",
          "output_type": "stream",
          "text": [
            "INFO:tensorflow:Assets written to: saved_model/cauli/1\\assets\n"
          ]
        },
        {
          "name": "stderr",
          "output_type": "stream",
          "text": [
            "INFO:tensorflow:Assets written to: saved_model/cauli/1\\assets\n"
          ]
        }
      ],
      "source": [
        "export_dir = 'saved_model/cauli/1'\n",
        "tf.saved_model.save(model, export_dir)"
      ]
    },
    {
      "cell_type": "code",
      "execution_count": 37,
      "metadata": {
        "id": "YLe1bB0CYGmh"
      },
      "outputs": [],
      "source": [
        "# mode = \"Speed\" \n",
        "\n",
        "# if mode == 'Storage':\n",
        "#     optimization = tf.lite.Optimize.OPTIMIZE_FOR_SIZE\n",
        "# elif mode == 'Speed':\n",
        "#     optimization = tf.lite.Optimize.OPTIMIZE_FOR_LATENCY\n",
        "# else:\n",
        "#     optimization = tf.lite.Optimize.DEFAULT"
      ]
    },
    {
      "cell_type": "code",
      "execution_count": 38,
      "metadata": {
        "id": "DgJVNidXYH9u"
      },
      "outputs": [],
      "source": [
        "converter = tf.lite.TFLiteConverter.from_saved_model(export_dir)\n",
        "converter.optimizations = [tf.lite.Optimize.DEFAULT]\n",
        "# Invoke the converter to finally generate the TFLite model\n",
        "tflite_model = converter.convert()"
      ]
    },
    {
      "cell_type": "code",
      "execution_count": 39,
      "metadata": {
        "colab": {
          "base_uri": "https://localhost:8080/"
        },
        "id": "Lyxc1xSSYLY0",
        "outputId": "3a12143d-73ee-4295-b701-90f434881490"
      },
      "outputs": [
        {
          "data": {
            "text/plain": [
              "3547464"
            ]
          },
          "execution_count": 39,
          "metadata": {},
          "output_type": "execute_result"
        }
      ],
      "source": [
        "import pathlib\n",
        "tflite_model_file = pathlib.Path('./assets/cauli_disease.tflite')\n",
        "tflite_model_file.write_bytes(tflite_model)"
      ]
    },
    {
      "cell_type": "code",
      "execution_count": null,
      "metadata": {},
      "outputs": [],
      "source": []
    }
  ],
  "metadata": {
    "accelerator": "GPU",
    "colab": {
      "gpuType": "T4",
      "provenance": []
    },
    "kernelspec": {
      "display_name": "Python 3",
      "language": "python",
      "name": "python3"
    },
    "language_info": {
      "codemirror_mode": {
        "name": "ipython",
        "version": 3
      },
      "file_extension": ".py",
      "mimetype": "text/x-python",
      "name": "python",
      "nbconvert_exporter": "python",
      "pygments_lexer": "ipython3",
      "version": "3.11.4"
    }
  },
  "nbformat": 4,
  "nbformat_minor": 0
}
