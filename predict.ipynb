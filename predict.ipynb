{
 "cells": [
  {
   "cell_type": "code",
   "execution_count": 11,
   "metadata": {},
   "outputs": [],
   "source": [
    "import tensorflow as tf\n",
    "import tensorflow.lite as tflite\n",
    "import numpy as np\n",
    "from PIL import Image"
   ]
  },
  {
   "cell_type": "code",
   "execution_count": 12,
   "metadata": {},
   "outputs": [],
   "source": [
    "# Get the path to the image file\n",
    "file_path = \"./data/Plant Disease/test/test/CornCommonRust1.JPG\"\n",
    "# Load the TensorFlow Lite model\n",
    "interpreter = tflite.Interpreter(model_path='./assets/plants_disease.tflite')\n",
    "interpreter.allocate_tensors()"
   ]
  },
  {
   "cell_type": "code",
   "execution_count": 13,
   "metadata": {},
   "outputs": [
    {
     "name": "stdout",
     "output_type": "stream",
     "text": [
      "[{'name': 'serving_default_mobilenetv2_1.00_224_input:0', 'index': 0, 'shape': array([  1, 224, 224,   3]), 'shape_signature': array([ -1, 224, 224,   3]), 'dtype': <class 'numpy.float32'>, 'quantization': (0.0, 0), 'quantization_parameters': {'scales': array([], dtype=float32), 'zero_points': array([], dtype=int32), 'quantized_dimension': 0}, 'sparsity_parameters': {}}]\n"
     ]
    }
   ],
   "source": [
    "# Get input and output details\n",
    "input_details = interpreter.get_input_details()\n",
    "output_details = interpreter.get_output_details()\n",
    "\n",
    "print(input_details)"
   ]
  },
  {
   "cell_type": "code",
   "execution_count": 14,
   "metadata": {},
   "outputs": [
    {
     "name": "stdout",
     "output_type": "stream",
     "text": [
      "akakaka <PIL.Image.Image image mode=RGB size=224x224 at 0x186874F7FD0>\n",
      "akiakiaki [[[ 3  3  3]\n",
      "  [ 3  3  3]\n",
      "  [ 3  3  3]\n",
      "  ...\n",
      "  [ 4  3  2]\n",
      "  [ 6  2  1]\n",
      "  [ 6  2  0]]\n",
      "\n",
      " [[ 3  3  3]\n",
      "  [ 3  3  3]\n",
      "  [ 3  3  3]\n",
      "  ...\n",
      "  [ 4  3  2]\n",
      "  [ 6  2  1]\n",
      "  [ 6  2  0]]\n",
      "\n",
      " [[ 3  3  3]\n",
      "  [ 3  3  3]\n",
      "  [ 3  3  3]\n",
      "  ...\n",
      "  [ 4  3  2]\n",
      "  [ 4  3  1]\n",
      "  [ 4  3  0]]\n",
      "\n",
      " ...\n",
      "\n",
      " [[71 67 27]\n",
      "  [81 79 37]\n",
      "  [83 83 40]\n",
      "  ...\n",
      "  [ 3  3  3]\n",
      "  [ 3  3  3]\n",
      "  [ 3  3  3]]\n",
      "\n",
      " [[87 80 42]\n",
      "  [90 85 45]\n",
      "  [84 82 40]\n",
      "  ...\n",
      "  [ 3  3  3]\n",
      "  [ 3  3  3]\n",
      "  [ 3  3  3]]\n",
      "\n",
      " [[88 80 43]\n",
      "  [97 92 53]\n",
      "  [98 94 54]\n",
      "  ...\n",
      "  [ 3  3  3]\n",
      "  [ 3  3  3]\n",
      "  [ 3  3  3]]]\n",
      "adjaksdjas [[[0.01176471 0.01176471 0.01176471]\n",
      "  [0.01176471 0.01176471 0.01176471]\n",
      "  [0.01176471 0.01176471 0.01176471]\n",
      "  ...\n",
      "  [0.01568628 0.01176471 0.00784314]\n",
      "  [0.02352941 0.00784314 0.00392157]\n",
      "  [0.02352941 0.00784314 0.        ]]\n",
      "\n",
      " [[0.01176471 0.01176471 0.01176471]\n",
      "  [0.01176471 0.01176471 0.01176471]\n",
      "  [0.01176471 0.01176471 0.01176471]\n",
      "  ...\n",
      "  [0.01568628 0.01176471 0.00784314]\n",
      "  [0.02352941 0.00784314 0.00392157]\n",
      "  [0.02352941 0.00784314 0.        ]]\n",
      "\n",
      " [[0.01176471 0.01176471 0.01176471]\n",
      "  [0.01176471 0.01176471 0.01176471]\n",
      "  [0.01176471 0.01176471 0.01176471]\n",
      "  ...\n",
      "  [0.01568628 0.01176471 0.00784314]\n",
      "  [0.01568628 0.01176471 0.00392157]\n",
      "  [0.01568628 0.01176471 0.        ]]\n",
      "\n",
      " ...\n",
      "\n",
      " [[0.2784314  0.2627451  0.10588235]\n",
      "  [0.31764707 0.30980393 0.14509805]\n",
      "  [0.3254902  0.3254902  0.15686275]\n",
      "  ...\n",
      "  [0.01176471 0.01176471 0.01176471]\n",
      "  [0.01176471 0.01176471 0.01176471]\n",
      "  [0.01176471 0.01176471 0.01176471]]\n",
      "\n",
      " [[0.34117648 0.3137255  0.16470589]\n",
      "  [0.3529412  0.33333334 0.1764706 ]\n",
      "  [0.32941177 0.32156864 0.15686275]\n",
      "  ...\n",
      "  [0.01176471 0.01176471 0.01176471]\n",
      "  [0.01176471 0.01176471 0.01176471]\n",
      "  [0.01176471 0.01176471 0.01176471]]\n",
      "\n",
      " [[0.34509805 0.3137255  0.16862746]\n",
      "  [0.38039216 0.36078432 0.20784314]\n",
      "  [0.38431373 0.36862746 0.21176471]\n",
      "  ...\n",
      "  [0.01176471 0.01176471 0.01176471]\n",
      "  [0.01176471 0.01176471 0.01176471]\n",
      "  [0.01176471 0.01176471 0.01176471]]]\n"
     ]
    }
   ],
   "source": [
    "# Preprocess the image\n",
    "img = Image.open(file_path).resize((224, 224))\n",
    "print(\"akakaka\", img)\n",
    "img = np.array(img)\n",
    "print(\"akiakiaki\", img)\n",
    "img = img.astype(np.float32) / 255.0\n",
    "print(\"adjaksdjas\",img)"
   ]
  },
  {
   "cell_type": "code",
   "execution_count": 15,
   "metadata": {},
   "outputs": [],
   "source": [
    "# Set the input tensor\n",
    "input_data = np.expand_dims(img, axis=0)\n",
    "input_data = input_data.astype(input_details[0]['dtype'])"
   ]
  },
  {
   "cell_type": "code",
   "execution_count": 16,
   "metadata": {},
   "outputs": [],
   "source": [
    "interpreter.set_tensor(input_details[0]['index'], input_data)"
   ]
  },
  {
   "cell_type": "code",
   "execution_count": 17,
   "metadata": {},
   "outputs": [],
   "source": [
    "# Run inference\n",
    "interpreter.invoke()"
   ]
  },
  {
   "cell_type": "code",
   "execution_count": 18,
   "metadata": {},
   "outputs": [],
   "source": [
    "output_tensor = interpreter.get_tensor(output_details[0]['index'])\n",
    "predictions = np.squeeze(output_tensor)"
   ]
  },
  {
   "cell_type": "code",
   "execution_count": 19,
   "metadata": {},
   "outputs": [
    {
     "name": "stdout",
     "output_type": "stream",
     "text": [
      "Predicted label: Corn_(maize)___Common_rust_\n"
     ]
    }
   ],
   "source": [
    "import os\n",
    "\n",
    "# Get the folder names as class labels\n",
    "label_names = sorted(os.listdir('./data/Plant Disease/New Plant Diseases Dataset/train'))\n",
    "\n",
    "# Postprocess the output\n",
    "predicted_label_index = np.argmax(output_tensor)\n",
    "predicted_label = label_names[predicted_label_index]\n",
    "\n",
    "print(\"Predicted label:\", predicted_label)"
   ]
  },
  {
   "cell_type": "code",
   "execution_count": null,
   "metadata": {},
   "outputs": [],
   "source": []
  }
 ],
 "metadata": {
  "kernelspec": {
   "display_name": "capstone",
   "language": "python",
   "name": "capstone"
  },
  "language_info": {
   "codemirror_mode": {
    "name": "ipython",
    "version": 3
   },
   "file_extension": ".py",
   "mimetype": "text/x-python",
   "name": "python",
   "nbconvert_exporter": "python",
   "pygments_lexer": "ipython3",
   "version": "3.11.1"
  },
  "orig_nbformat": 4
 },
 "nbformat": 4,
 "nbformat_minor": 2
}
