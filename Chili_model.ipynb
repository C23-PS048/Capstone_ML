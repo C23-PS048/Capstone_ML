{
 "cells": [
  {
   "cell_type": "code",
   "execution_count": 1,
   "metadata": {},
   "outputs": [],
   "source": [
    "import os\n",
    "import tensorflow as tf\n",
    "from tensorflow.keras.applications.mobilenet_v2 import preprocess_input\n",
    "from tensorflow.keras.preprocessing.image import ImageDataGenerator\n",
    "from tensorflow.keras.models import Sequential\n",
    "from tensorflow.keras.layers import Dense, GlobalAveragePooling2D, Dropout\n",
    "from tensorflow.keras.callbacks import ModelCheckpoint, EarlyStopping, ReduceLROnPlateau\n",
    "from tensorflow.keras.optimizers import Adam\n",
    "from tensorflow.keras import regularizers"
   ]
  },
  {
   "cell_type": "code",
   "execution_count": 2,
   "metadata": {},
   "outputs": [],
   "source": [
    "image_size = (224, 224)\n",
    "# batch_size = 8"
   ]
  },
  {
   "cell_type": "code",
   "execution_count": 3,
   "metadata": {},
   "outputs": [],
   "source": [
    "base_model = tf.keras.applications.MobileNetV2(\n",
    "    include_top=False, \n",
    "    weights='imagenet', \n",
    "    input_shape=(image_size[0], image_size[1], 3),\n",
    ")"
   ]
  },
  {
   "cell_type": "code",
   "execution_count": 4,
   "metadata": {},
   "outputs": [],
   "source": [
    "# Preprocess the input images and apply augmentation\n",
    "train_datagen = ImageDataGenerator(\n",
    "    preprocessing_function=preprocess_input,\n",
    "    rotation_range=20,\n",
    "    width_shift_range=0.2,\n",
    "    height_shift_range=0.2,\n",
    "    zoom_range=0.5,\n",
    "    horizontal_flip=True,\n",
    "    fill_mode='nearest'\n",
    ")\n",
    "\n",
    "valid_datagen = ImageDataGenerator(\n",
    "    preprocessing_function=preprocess_input,\n",
    ")"
   ]
  },
  {
   "cell_type": "code",
   "execution_count": 5,
   "metadata": {},
   "outputs": [],
   "source": [
    "base_path = \"data/Plant Disease/Plants Disease Dataset Subset\" #Local Notebook\n",
    "source_path = os.path.join(base_path, \"Chili\")\n",
    "train_path = os.path.join(source_path, \"train\")\n",
    "valid_path = os.path.join(source_path, \"valid\")"
   ]
  },
  {
   "cell_type": "code",
   "execution_count": 15,
   "metadata": {},
   "outputs": [
    {
     "name": "stdout",
     "output_type": "stream",
     "text": [
      "Found 343 images belonging to 5 classes.\n",
      "Found 50 images belonging to 5 classes.\n"
     ]
    }
   ],
   "source": [
    "# Create train and validation data generators\n",
    "train_generator = train_datagen.flow_from_directory(\n",
    "    train_path,\n",
    "    target_size=image_size,\n",
    "    batch_size=32,\n",
    "    class_mode='categorical',\n",
    "    shuffle = True\n",
    ")\n",
    "\n",
    "validation_generator = valid_datagen.flow_from_directory(\n",
    "    valid_path,\n",
    "    target_size=image_size,\n",
    "    batch_size=5,\n",
    "    class_mode='categorical',\n",
    "    shuffle = False\n",
    ")"
   ]
  },
  {
   "cell_type": "code",
   "execution_count": 16,
   "metadata": {},
   "outputs": [],
   "source": [
    "for layer in base_model.layers:\n",
    "    layer.trainable = False\n",
    "\n",
    "with tf.device(\"GPU\"):\n",
    "    model = Sequential()\n",
    "    model.add(base_model)\n",
    "    model.add(Dropout(0.2))\n",
    "    model.add(GlobalAveragePooling2D())\n",
    "    model.add(Dense(256, activation='relu'))\n",
    "    model.add(Dense(128, activation='relu'))\n",
    "    model.add(Dense(5, activation='softmax'))\n",
    "\n",
    "# Compile the model\n",
    "# learning_rate = 0.001\n",
    "optimizer = Adam(learning_rate=0.01)\n",
    "model.compile(optimizer=optimizer, loss='categorical_crossentropy', metrics=['accuracy'])\n",
    "\n",
    "# Print the model summary\n",
    "# model.summary()"
   ]
  },
  {
   "cell_type": "code",
   "execution_count": 17,
   "metadata": {},
   "outputs": [
    {
     "name": "stdout",
     "output_type": "stream",
     "text": [
      "Epoch 1/30\n",
      "11/11 [==============================] - 15s 1s/step - loss: 7.5962 - accuracy: 0.2274 - val_loss: 1.7827 - val_accuracy: 0.2800 - lr: 0.0100\n",
      "Epoch 2/30\n",
      "11/11 [==============================] - 11s 1s/step - loss: 1.3504 - accuracy: 0.4315 - val_loss: 1.1266 - val_accuracy: 0.4600 - lr: 0.0100\n",
      "Epoch 3/30\n",
      "11/11 [==============================] - 11s 984ms/step - loss: 0.9027 - accuracy: 0.5743 - val_loss: 0.9008 - val_accuracy: 0.5600 - lr: 0.0100\n",
      "Epoch 4/30\n",
      "11/11 [==============================] - 11s 961ms/step - loss: 0.7518 - accuracy: 0.7114 - val_loss: 0.7076 - val_accuracy: 0.8000 - lr: 0.0100\n",
      "Epoch 5/30\n",
      "11/11 [==============================] - 10s 976ms/step - loss: 0.6534 - accuracy: 0.7697 - val_loss: 0.5084 - val_accuracy: 0.8000 - lr: 0.0100\n",
      "Epoch 6/30\n",
      "11/11 [==============================] - 10s 935ms/step - loss: 0.5994 - accuracy: 0.7784 - val_loss: 0.5901 - val_accuracy: 0.8000 - lr: 0.0100\n",
      "Epoch 7/30\n",
      "11/11 [==============================] - 11s 957ms/step - loss: 0.6657 - accuracy: 0.7405 - val_loss: 0.7699 - val_accuracy: 0.7200 - lr: 0.0100\n",
      "Epoch 8/30\n",
      "11/11 [==============================] - 10s 954ms/step - loss: 0.5579 - accuracy: 0.7697 - val_loss: 0.5874 - val_accuracy: 0.8400 - lr: 1.0000e-03\n",
      "Epoch 9/30\n",
      "11/11 [==============================] - 10s 929ms/step - loss: 0.4907 - accuracy: 0.8222 - val_loss: 0.5546 - val_accuracy: 0.8600 - lr: 1.0000e-03\n",
      "Epoch 10/30\n",
      "11/11 [==============================] - 11s 957ms/step - loss: 0.4343 - accuracy: 0.8542 - val_loss: 0.5205 - val_accuracy: 0.8800 - lr: 1.0000e-03\n",
      "Epoch 11/30\n",
      "11/11 [==============================] - 11s 964ms/step - loss: 0.4016 - accuracy: 0.8455 - val_loss: 0.4995 - val_accuracy: 0.8800 - lr: 1.0000e-03\n",
      "Epoch 12/30\n",
      "11/11 [==============================] - 10s 943ms/step - loss: 0.3493 - accuracy: 0.8688 - val_loss: 0.4991 - val_accuracy: 0.8800 - lr: 1.0000e-03\n",
      "Epoch 13/30\n",
      "11/11 [==============================] - 11s 951ms/step - loss: 0.3751 - accuracy: 0.8484 - val_loss: 0.4925 - val_accuracy: 0.8800 - lr: 1.0000e-03\n",
      "Epoch 14/30\n",
      "11/11 [==============================] - 10s 956ms/step - loss: 0.3758 - accuracy: 0.8542 - val_loss: 0.4893 - val_accuracy: 0.8800 - lr: 1.0000e-04\n",
      "Epoch 15/30\n",
      "11/11 [==============================] - 11s 976ms/step - loss: 0.3729 - accuracy: 0.8601 - val_loss: 0.4804 - val_accuracy: 0.8800 - lr: 1.0000e-04\n",
      "Epoch 16/30\n",
      "11/11 [==============================] - 11s 982ms/step - loss: 0.3704 - accuracy: 0.8426 - val_loss: 0.4784 - val_accuracy: 0.9000 - lr: 1.0000e-04\n",
      "Epoch 17/30\n",
      "11/11 [==============================] - 11s 959ms/step - loss: 0.3599 - accuracy: 0.8776 - val_loss: 0.4746 - val_accuracy: 0.9000 - lr: 1.0000e-04\n",
      "Epoch 18/30\n",
      "11/11 [==============================] - 10s 938ms/step - loss: 0.3797 - accuracy: 0.8397 - val_loss: 0.4717 - val_accuracy: 0.9000 - lr: 1.0000e-04\n",
      "Epoch 19/30\n",
      "11/11 [==============================] - 10s 941ms/step - loss: 0.3742 - accuracy: 0.8455 - val_loss: 0.4644 - val_accuracy: 0.9000 - lr: 1.0000e-04\n",
      "Epoch 20/30\n",
      "11/11 [==============================] - 10s 937ms/step - loss: 0.3716 - accuracy: 0.8455 - val_loss: 0.4642 - val_accuracy: 0.9000 - lr: 1.0000e-05\n",
      "Epoch 21/30\n",
      "11/11 [==============================] - 10s 927ms/step - loss: 0.3678 - accuracy: 0.8688 - val_loss: 0.4649 - val_accuracy: 0.9000 - lr: 1.0000e-05\n",
      "Epoch 22/30\n",
      "11/11 [==============================] - 10s 910ms/step - loss: 0.3601 - accuracy: 0.8542 - val_loss: 0.4651 - val_accuracy: 0.9000 - lr: 1.0000e-05\n",
      "Epoch 23/30\n",
      "11/11 [==============================] - 10s 913ms/step - loss: 0.3623 - accuracy: 0.8601 - val_loss: 0.4651 - val_accuracy: 0.9000 - lr: 1.0000e-06\n",
      "Epoch 24/30\n",
      "11/11 [==============================] - 10s 949ms/step - loss: 0.3748 - accuracy: 0.8542 - val_loss: 0.4652 - val_accuracy: 0.9000 - lr: 1.0000e-06\n",
      "Epoch 25/30\n",
      "11/11 [==============================] - 10s 924ms/step - loss: 0.3541 - accuracy: 0.8426 - val_loss: 0.4652 - val_accuracy: 0.9000 - lr: 1.0000e-06\n",
      "Epoch 26/30\n",
      "11/11 [==============================] - 10s 919ms/step - loss: 0.3567 - accuracy: 0.8717 - val_loss: 0.4652 - val_accuracy: 0.9000 - lr: 1.0000e-07\n"
     ]
    }
   ],
   "source": [
    "checkpoint_callback = ModelCheckpoint('./saved_model/chili_model_weights.h5', save_best_only=True, save_weights_only=True)\n",
    "early_stopping_callback = EarlyStopping(patience=10, monitor='val_accuracy', restore_best_weights=True)\n",
    "reduce_lr_callback = ReduceLROnPlateau(factor=0.1, patience=3, monitor='val_accuracy')\n",
    "\n",
    "epoch = 30\n",
    "with tf.device('GPU'):\n",
    "    history = model.fit(\n",
    "        train_generator,\n",
    "        steps_per_epoch=len(train_generator),\n",
    "        epochs=epoch,\n",
    "        validation_data=validation_generator,\n",
    "        validation_steps=len(validation_generator),\n",
    "        callbacks=[checkpoint_callback, early_stopping_callback, reduce_lr_callback]\n",
    "    )"
   ]
  },
  {
   "cell_type": "code",
   "execution_count": 18,
   "metadata": {},
   "outputs": [
    {
     "data": {
      "image/png": "[encoded data removed]",
      "text/plain": [
       "<Figure size 1000x300 with 3 Axes>"
      ]
     },
     "metadata": {},
     "output_type": "display_data"
    }
   ],
   "source": [
    "import matplotlib.pyplot as plt\n",
    "\n",
    "# Plot the training and validation loss\n",
    "fig, axes = plt.subplots(1, 3, figsize=(10, 3))\n",
    "\n",
    "axes[0].plot(history.history['loss'])\n",
    "axes[0].plot(history.history['val_loss'])\n",
    "axes[0].set_title('Model Loss')\n",
    "axes[0].set_xlabel('Epoch')\n",
    "axes[0].set_ylabel('Loss')\n",
    "axes[0].legend(['Train', 'Validation'], loc='upper right')\n",
    "\n",
    "axes[1].plot(history.history['accuracy'])\n",
    "axes[1].plot(history.history['val_accuracy'])\n",
    "axes[1].set_title('Model Accuracy')\n",
    "axes[1].set_xlabel('Epoch')\n",
    "axes[1].set_ylabel('Accuracy')\n",
    "axes[1].legend(['Train', 'Validation'], loc='lower right')\n",
    "\n",
    "axes[2].plot(history.history['lr'])\n",
    "axes[2].set_title('Learning Rate')\n",
    "axes[2].set_xlabel('Epoch')\n",
    "axes[2].set_ylabel('Learning Rate')\n",
    "\n",
    "# Print the final training and validation accuracy\n",
    "final_train_accuracy = history.history['accuracy'][-1]\n",
    "final_val_accuracy = history.history['val_accuracy'][-1]\n",
    "axes[1].annotate(f'Train Acc: {final_train_accuracy:.4f}', xy=(len(history.history['accuracy']) - 1, final_train_accuracy), xytext=(10, 10),\n",
    "                 textcoords='offset points', arrowprops=dict(arrowstyle='->', color='black'))\n",
    "axes[1].annotate(f'Val Acc: {final_val_accuracy:.4f}', xy=(len(history.history['val_accuracy']) - 1, final_val_accuracy), xytext=(10, -30),\n",
    "                 textcoords='offset points', arrowprops=dict(arrowstyle='->', color='black'))\n",
    "\n",
    "plt.tight_layout()\n",
    "plt.show()\n"
   ]
  },
  {
   "cell_type": "code",
   "execution_count": 19,
   "metadata": {},
   "outputs": [
    {
     "name": "stderr",
     "output_type": "stream",
     "text": [
      "WARNING:absl:Function `_wrapped_model` contains input name(s) mobilenetv2_1.00_224_input with unsupported characters which will be renamed to mobilenetv2_1_00_224_input in the SavedModel.\n",
      "WARNING:absl:`mobilenetv2_1.00_224_input` is not a valid tf.function parameter name. Sanitizing to `mobilenetv2_1_00_224_input`.\n",
      "WARNING:absl:`mobilenetv2_1.00_224_input` is not a valid tf.function parameter name. Sanitizing to `mobilenetv2_1_00_224_input`.\n",
      "WARNING:absl:`mobilenetv2_1.00_224_input` is not a valid tf.function parameter name. Sanitizing to `mobilenetv2_1_00_224_input`.\n",
      "WARNING:absl:Found untraced functions such as _update_step_xla, _jit_compiled_convolution_op, _jit_compiled_convolution_op, _jit_compiled_convolution_op, _jit_compiled_convolution_op while saving (showing 5 of 53). These functions will not be directly callable after loading.\n"
     ]
    },
    {
     "name": "stdout",
     "output_type": "stream",
     "text": [
      "INFO:tensorflow:Assets written to: saved_model/chili/5\\assets\n"
     ]
    },
    {
     "name": "stderr",
     "output_type": "stream",
     "text": [
      "INFO:tensorflow:Assets written to: saved_model/chili/5\\assets\n"
     ]
    }
   ],
   "source": [
    "export_dir = 'saved_model/chili/5'\n",
    "tf.saved_model.save(model, export_dir)"
   ]
  },
  {
   "cell_type": "code",
   "execution_count": 20,
   "metadata": {},
   "outputs": [],
   "source": [
    "# mode = \"Speed\" \n",
    "\n",
    "# if mode == 'Storage':\n",
    "#     optimization = tf.lite.Optimize.OPTIMIZE_FOR_SIZE\n",
    "# elif mode == 'Speed':\n",
    "#     optimization = tf.lite.Optimize.OPTIMIZE_FOR_LATENCY\n",
    "# else:\n",
    "#     optimization = tf.lite.Optimize.DEFAULT\n",
    "\n",
    "converter = tf.lite.TFLiteConverter.from_saved_model(export_dir)\n",
    "converter.optimizations = [tf.lite.Optimize.DEFAULT]\n",
    "# Invoke the converter to finally generate the TFLite model\n",
    "tflite_model = converter.convert()"
   ]
  },
  {
   "cell_type": "code",
   "execution_count": 21,
   "metadata": {},
   "outputs": [
    {
     "data": {
      "text/plain": [
       "2874496"
      ]
     },
     "execution_count": 21,
     "metadata": {},
     "output_type": "execute_result"
    }
   ],
   "source": [
    "import pathlib\n",
    "tflite_model_file = pathlib.Path('./assets/chili_disease8790.tflite')\n",
    "tflite_model_file.write_bytes(tflite_model)"
   ]
  },
  {
   "cell_type": "code",
   "execution_count": null,
   "metadata": {},
   "outputs": [],
   "source": []
  }
 ],
 "metadata": {
  "kernelspec": {
   "display_name": "Python 3",
   "language": "python",
   "name": "python3"
  },
  "language_info": {
   "codemirror_mode": {
    "name": "ipython",
    "version": 3
   },
   "file_extension": ".py",
   "mimetype": "text/x-python",
   "name": "python",
   "nbconvert_exporter": "python",
   "pygments_lexer": "ipython3",
   "version": "3.11.4"
  },
  "orig_nbformat": 4
 },
 "nbformat": 4,
 "nbformat_minor": 2
}
