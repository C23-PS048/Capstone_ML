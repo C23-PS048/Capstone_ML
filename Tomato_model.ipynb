{
 "cells": [
  {
   "attachments": {},
   "cell_type": "markdown",
   "metadata": {},
   "source": [
    "## Importing Modules Needed"
   ]
  },
  {
   "cell_type": "code",
   "execution_count": 1,
   "metadata": {},
   "outputs": [],
   "source": [
    "import os\n",
    "import tensorflow as tf\n",
    "from tensorflow.keras.applications.mobilenet_v3 import preprocess_input\n",
    "from tensorflow.keras.preprocessing.image import ImageDataGenerator\n",
    "from tensorflow.keras.models import Sequential\n",
    "from tensorflow.keras.layers import Dense, GlobalAveragePooling2D, Dropout\n",
    "from tensorflow.keras.callbacks import ModelCheckpoint, EarlyStopping, ReduceLROnPlateau\n",
    "from tensorflow.keras.optimizers import Adam"
   ]
  },
  {
   "attachments": {},
   "cell_type": "markdown",
   "metadata": {},
   "source": [
    "We set our image to be 224 x 224 in RGB color (3)"
   ]
  },
  {
   "cell_type": "code",
   "execution_count": 2,
   "metadata": {},
   "outputs": [],
   "source": [
    "image_size = (224, 224)"
   ]
  },
  {
   "attachments": {},
   "cell_type": "markdown",
   "metadata": {},
   "source": [
    "We have decided to use Transfer Learning tehcnique and choose MobileNetV3 Small as our base model"
   ]
  },
  {
   "cell_type": "code",
   "execution_count": 3,
   "metadata": {},
   "outputs": [],
   "source": [
    "base_model = tf.keras.applications.MobileNetV3Small(\n",
    "    include_top=False, \n",
    "    weights='imagenet', \n",
    "    input_shape=(image_size[0], image_size[1], 3),\n",
    ")"
   ]
  },
  {
   "attachments": {},
   "cell_type": "markdown",
   "metadata": {},
   "source": [
    "## Prepare The Data"
   ]
  },
  {
   "attachments": {},
   "cell_type": "markdown",
   "metadata": {},
   "source": [
    "This cell is used to define the data augmentation, we only applied the augmentation in training data"
   ]
  },
  {
   "cell_type": "code",
   "execution_count": 4,
   "metadata": {},
   "outputs": [],
   "source": [
    "# Preprocess the input images and apply augmentation\n",
    "train_datagen = ImageDataGenerator(\n",
    "    preprocessing_function=preprocess_input,\n",
    "    rotation_range=20,\n",
    "    width_shift_range=0.2,\n",
    "    height_shift_range=0.2,\n",
    "    zoom_range=0.2,\n",
    "    horizontal_flip=True,\n",
    "    fill_mode='nearest'\n",
    ")\n",
    "\n",
    "valid_datagen = ImageDataGenerator(\n",
    "    preprocessing_function=preprocess_input,\n",
    ")"
   ]
  },
  {
   "attachments": {},
   "cell_type": "markdown",
   "metadata": {},
   "source": [
    "Our dataset is inside \"data\" folder, which already split into train and valid sub folders"
   ]
  },
  {
   "cell_type": "code",
   "execution_count": 5,
   "metadata": {},
   "outputs": [],
   "source": [
    "base_path = \"data/Plant Disease/Plants Disease Dataset Subset\" #Local Notebook\n",
    "source_path = os.path.join(base_path, \"Tomato\")\n",
    "train_path = os.path.join(source_path, \"train\")\n",
    "valid_path = os.path.join(source_path, \"valid\")"
   ]
  },
  {
   "attachments": {},
   "cell_type": "markdown",
   "metadata": {},
   "source": [
    "Arrange the dataset by creating train and validation data generators. We also specify tha batch size and target image size here"
   ]
  },
  {
   "cell_type": "code",
   "execution_count": 6,
   "metadata": {},
   "outputs": [
    {
     "name": "stdout",
     "output_type": "stream",
     "text": [
      "Found 712 images belonging to 10 classes.\n",
      "Found 200 images belonging to 10 classes.\n"
     ]
    }
   ],
   "source": [
    "train_generator = train_datagen.flow_from_directory(\n",
    "    train_path,\n",
    "    target_size=image_size,\n",
    "    batch_size=128,\n",
    "    class_mode='categorical',\n",
    "    shuffle = True\n",
    ")\n",
    "\n",
    "validation_generator = valid_datagen.flow_from_directory(\n",
    "    valid_path,\n",
    "    target_size=image_size,\n",
    "    batch_size=64,\n",
    "    class_mode='categorical',\n",
    "    shuffle = False\n",
    ")"
   ]
  },
  {
   "attachments": {},
   "cell_type": "markdown",
   "metadata": {},
   "source": [
    "## Defining the model\n",
    "Inside our model we use MobileNetV3 Small combine them with more layer to increase the accuracy. We also specify the last/output layer with 10 Neuron since we have 10 classes in total"
   ]
  },
  {
   "cell_type": "code",
   "execution_count": 7,
   "metadata": {},
   "outputs": [],
   "source": [
    "for layer in base_model.layers:\n",
    "    layer.trainable = False\n",
    "\n",
    "with tf.device(\"GPU\"):\n",
    "    model = Sequential()\n",
    "    model.add(base_model)\n",
    "    model.add(Dropout(0.2))\n",
    "    model.add(GlobalAveragePooling2D())\n",
    "    model.add(Dense(475, activation='relu'))\n",
    "    model.add(Dropout(0.2))\n",
    "    model.add(Dense(200, activation='relu'))\n",
    "    model.add(Dense(10, activation='softmax'))\n",
    "\n",
    "# Compile the model\n",
    "learning_rate = 0.01\n",
    "optimizer = Adam(learning_rate=learning_rate)\n",
    "model.compile(optimizer=optimizer, loss='categorical_crossentropy', metrics=['accuracy'])\n",
    "\n",
    "# Print the model summary\n",
    "# model.summary()"
   ]
  },
  {
   "attachments": {},
   "cell_type": "markdown",
   "metadata": {},
   "source": [
    "We train our model with some callbacks to save the checkpoints and run on 30 epoch with monitoring on validation accuracy"
   ]
  },
  {
   "cell_type": "code",
   "execution_count": 8,
   "metadata": {},
   "outputs": [
    {
     "name": "stdout",
     "output_type": "stream",
     "text": [
      "Epoch 1/30\n",
      "6/6 [==============================] - 19s 3s/step - loss: 4.8902 - accuracy: 0.1376 - val_loss: 2.3866 - val_accuracy: 0.1850 - lr: 0.0100\n",
      "Epoch 2/30\n",
      "6/6 [==============================] - 13s 2s/step - loss: 2.1859 - accuracy: 0.1910 - val_loss: 1.8076 - val_accuracy: 0.3300 - lr: 0.0100\n",
      "Epoch 3/30\n",
      "6/6 [==============================] - 13s 2s/step - loss: 1.6814 - accuracy: 0.4031 - val_loss: 1.3248 - val_accuracy: 0.5200 - lr: 0.0100\n",
      "Epoch 4/30\n",
      "6/6 [==============================] - 13s 2s/step - loss: 1.3122 - accuracy: 0.5253 - val_loss: 1.0265 - val_accuracy: 0.6800 - lr: 0.0100\n",
      "Epoch 5/30\n",
      "6/6 [==============================] - 13s 2s/step - loss: 0.9975 - accuracy: 0.6475 - val_loss: 0.8686 - val_accuracy: 0.7300 - lr: 0.0100\n",
      "Epoch 6/30\n",
      "6/6 [==============================] - 13s 2s/step - loss: 0.7952 - accuracy: 0.6994 - val_loss: 0.7478 - val_accuracy: 0.7850 - lr: 0.0100\n",
      "Epoch 7/30\n",
      "6/6 [==============================] - 13s 2s/step - loss: 0.6886 - accuracy: 0.7739 - val_loss: 0.6966 - val_accuracy: 0.7950 - lr: 0.0100\n",
      "Epoch 8/30\n",
      "6/6 [==============================] - 13s 2s/step - loss: 0.6732 - accuracy: 0.7654 - val_loss: 0.7639 - val_accuracy: 0.7550 - lr: 0.0100\n",
      "Epoch 9/30\n",
      "6/6 [==============================] - 13s 2s/step - loss: 0.6151 - accuracy: 0.7683 - val_loss: 0.7820 - val_accuracy: 0.7650 - lr: 0.0100\n",
      "Epoch 10/30\n",
      "6/6 [==============================] - 13s 2s/step - loss: 0.5622 - accuracy: 0.8006 - val_loss: 0.6787 - val_accuracy: 0.7600 - lr: 0.0100\n",
      "Epoch 11/30\n",
      "6/6 [==============================] - 14s 2s/step - loss: 0.5041 - accuracy: 0.8160 - val_loss: 0.6350 - val_accuracy: 0.7950 - lr: 1.0000e-03\n",
      "Epoch 12/30\n",
      "6/6 [==============================] - 13s 2s/step - loss: 0.4112 - accuracy: 0.8539 - val_loss: 0.6306 - val_accuracy: 0.8000 - lr: 1.0000e-03\n",
      "Epoch 13/30\n",
      "6/6 [==============================] - 13s 2s/step - loss: 0.4001 - accuracy: 0.8469 - val_loss: 0.5964 - val_accuracy: 0.7950 - lr: 1.0000e-03\n",
      "Epoch 14/30\n",
      "6/6 [==============================] - 13s 2s/step - loss: 0.3989 - accuracy: 0.8469 - val_loss: 0.6136 - val_accuracy: 0.8050 - lr: 1.0000e-03\n",
      "Epoch 15/30\n",
      "6/6 [==============================] - 13s 2s/step - loss: 0.4292 - accuracy: 0.8497 - val_loss: 0.6644 - val_accuracy: 0.8100 - lr: 1.0000e-03\n",
      "Epoch 16/30\n",
      "6/6 [==============================] - 13s 2s/step - loss: 0.3728 - accuracy: 0.8764 - val_loss: 0.6329 - val_accuracy: 0.8100 - lr: 1.0000e-03\n",
      "Epoch 17/30\n",
      "6/6 [==============================] - 13s 2s/step - loss: 0.3554 - accuracy: 0.8834 - val_loss: 0.5876 - val_accuracy: 0.8250 - lr: 1.0000e-03\n",
      "Epoch 18/30\n",
      "6/6 [==============================] - 12s 2s/step - loss: 0.3729 - accuracy: 0.8638 - val_loss: 0.5898 - val_accuracy: 0.8150 - lr: 1.0000e-03\n",
      "Epoch 19/30\n",
      "6/6 [==============================] - 12s 2s/step - loss: 0.3517 - accuracy: 0.8708 - val_loss: 0.6120 - val_accuracy: 0.8150 - lr: 1.0000e-03\n",
      "Epoch 20/30\n",
      "6/6 [==============================] - 12s 2s/step - loss: 0.3427 - accuracy: 0.8890 - val_loss: 0.6116 - val_accuracy: 0.8200 - lr: 1.0000e-03\n",
      "Epoch 21/30\n",
      "6/6 [==============================] - 12s 2s/step - loss: 0.3409 - accuracy: 0.8834 - val_loss: 0.6102 - val_accuracy: 0.8200 - lr: 1.0000e-04\n",
      "Epoch 22/30\n",
      "6/6 [==============================] - 12s 2s/step - loss: 0.3234 - accuracy: 0.8904 - val_loss: 0.6062 - val_accuracy: 0.8250 - lr: 1.0000e-04\n"
     ]
    }
   ],
   "source": [
    "checkpoint_callback = ModelCheckpoint('.saved_model/tomato_mw_v3_1.h5', save_best_only=True, save_weights_only=True)\n",
    "early_stopping_callback = EarlyStopping(patience=5, monitor='val_accuracy', restore_best_weights=True)\n",
    "reduce_lr_callback = ReduceLROnPlateau(factor=0.1, patience=3, monitor='val_accuracy')\n",
    "\n",
    "epoch = 30\n",
    "with tf.device('GPU'):\n",
    "    history = model.fit(\n",
    "        train_generator,\n",
    "        steps_per_epoch=len(train_generator),\n",
    "        epochs=epoch,\n",
    "        validation_data=validation_generator,\n",
    "        validation_steps=len(validation_generator),\n",
    "        callbacks=[\n",
    "            checkpoint_callback, \n",
    "            early_stopping_callback, \n",
    "            reduce_lr_callback\n",
    "            ]\n",
    "    )"
   ]
  },
  {
   "attachments": {},
   "cell_type": "markdown",
   "metadata": {},
   "source": [
    "## Plotting the result"
   ]
  },
  {
   "cell_type": "code",
   "execution_count": 9,
   "metadata": {},
   "outputs": [
    {
     "data": {
      "image/png": "[encoded data removed]",
      "text/plain": [
       "<Figure size 1000x300 with 3 Axes>"
      ]
     },
     "metadata": {},
     "output_type": "display_data"
    }
   ],
   "source": [
    "import matplotlib.pyplot as plt\n",
    "\n",
    "# Plot the training and validation loss\n",
    "fig, axes = plt.subplots(1, 3, figsize=(10, 3))\n",
    "\n",
    "axes[0].plot(history.history['loss'])\n",
    "axes[0].plot(history.history['val_loss'])\n",
    "axes[0].set_title('Model Loss')\n",
    "axes[0].set_xlabel('Epoch')\n",
    "axes[0].set_ylabel('Loss')\n",
    "axes[0].legend(['Train', 'Validation'], loc='upper right')\n",
    "\n",
    "axes[1].plot(history.history['accuracy'])\n",
    "axes[1].plot(history.history['val_accuracy'])\n",
    "axes[1].set_title('Model Accuracy')\n",
    "axes[1].set_xlabel('Epoch')\n",
    "axes[1].set_ylabel('Accuracy')\n",
    "axes[1].legend(['Train', 'Validation'], loc='lower right')\n",
    "\n",
    "axes[2].plot(history.history['lr'])\n",
    "axes[2].set_title('Learning Rate')\n",
    "axes[2].set_xlabel('Epoch')\n",
    "axes[2].set_ylabel('Learning Rate')\n",
    "\n",
    "# Print the final training and validation accuracy\n",
    "final_train_accuracy = history.history['accuracy'][-1]\n",
    "final_val_accuracy = history.history['val_accuracy'][-1]\n",
    "axes[1].annotate(f'Train Acc: {final_train_accuracy:.4f}', xy=(len(history.history['accuracy']) - 1, final_train_accuracy), xytext=(10, 10),\n",
    "                 textcoords='offset points', arrowprops=dict(arrowstyle='->', color='black'))\n",
    "axes[1].annotate(f'Val Acc: {final_val_accuracy:.4f}', xy=(len(history.history['val_accuracy']) - 1, final_val_accuracy), xytext=(10, -30),\n",
    "                 textcoords='offset points', arrowprops=dict(arrowstyle='->', color='black'))\n",
    "\n",
    "plt.tight_layout()\n",
    "plt.show()"
   ]
  },
  {
   "attachments": {},
   "cell_type": "markdown",
   "metadata": {},
   "source": [
    "# Save the model and convert to .tflite"
   ]
  },
  {
   "cell_type": "code",
   "execution_count": 10,
   "metadata": {},
   "outputs": [
    {
     "name": "stderr",
     "output_type": "stream",
     "text": [
      "WARNING:absl:Function `_wrapped_model` contains input name(s) MobilenetV3small_input with unsupported characters which will be renamed to mobilenetv3small_input in the SavedModel.\n",
      "WARNING:absl:Found untraced functions such as _update_step_xla, _jit_compiled_convolution_op, _jit_compiled_convolution_op, _jit_compiled_convolution_op, _jit_compiled_convolution_op while saving (showing 5 of 53). These functions will not be directly callable after loading.\n"
     ]
    },
    {
     "name": "stdout",
     "output_type": "stream",
     "text": [
      "INFO:tensorflow:Assets written to: ./saved_model/tomato/4\\assets\n"
     ]
    },
    {
     "name": "stderr",
     "output_type": "stream",
     "text": [
      "INFO:tensorflow:Assets written to: ./saved_model/tomato/4\\assets\n"
     ]
    }
   ],
   "source": [
    "export_dir = './saved_model/tomato/4'\n",
    "tf.saved_model.save(model, export_dir)"
   ]
  },
  {
   "cell_type": "code",
   "execution_count": 11,
   "metadata": {},
   "outputs": [],
   "source": [
    "# mode = \"Speed\" \n",
    "\n",
    "# if mode == 'Storage':\n",
    "#     optimization = tf.lite.Optimize.OPTIMIZE_FOR_SIZE\n",
    "# elif mode == 'Speed':\n",
    "#     optimization = tf.lite.Optimize.OPTIMIZE_FOR_LATENCY\n",
    "# else:\n",
    "#     optimization = tf.lite.Optimize.DEFAULT\n",
    "\n",
    "converter = tf.lite.TFLiteConverter.from_saved_model(export_dir)\n",
    "converter.optimizations = [tf.lite.Optimize.DEFAULT]\n",
    "\n",
    "# Invoke the converter to finally generate the TFLite model\n",
    "tflite_model = converter.convert()"
   ]
  },
  {
   "cell_type": "code",
   "execution_count": 12,
   "metadata": {},
   "outputs": [
    {
     "data": {
      "text/plain": [
       "1493968"
      ]
     },
     "execution_count": 12,
     "metadata": {},
     "output_type": "execute_result"
    }
   ],
   "source": [
    "import pathlib\n",
    "tflite_model_file = pathlib.Path('./assets/tomato_disease8982.tflite')\n",
    "tflite_model_file.write_bytes(tflite_model)"
   ]
  },
  {
   "cell_type": "code",
   "execution_count": null,
   "metadata": {},
   "outputs": [],
   "source": []
  }
 ],
 "metadata": {
  "kernelspec": {
   "display_name": "Python 3",
   "language": "python",
   "name": "python3"
  },
  "language_info": {
   "codemirror_mode": {
    "name": "ipython",
    "version": 3
   },
   "file_extension": ".py",
   "mimetype": "text/x-python",
   "name": "python",
   "nbconvert_exporter": "python",
   "pygments_lexer": "ipython3",
   "version": "3.11.4"
  },
  "orig_nbformat": 4
 },
 "nbformat": 4,
 "nbformat_minor": 2
}
