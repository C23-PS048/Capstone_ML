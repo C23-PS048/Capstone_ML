{
 "cells": [
  {
   "cell_type": "code",
   "execution_count": 1,
   "metadata": {},
   "outputs": [],
   "source": [
    "import os\n",
    "import tensorflow.lite as tflite\n",
    "import numpy as np\n",
    "from PIL import Image"
   ]
  },
  {
   "cell_type": "code",
   "execution_count": 2,
   "metadata": {},
   "outputs": [],
   "source": [
    "def predict_plant_disease(image_path, model_path, label_path):\n",
    "    # Load the TensorFlow Lite model\n",
    "    interpreter = tflite.Interpreter(model_path)\n",
    "    interpreter.allocate_tensors()\n",
    "\n",
    "    # Get input and output details\n",
    "    input_details = interpreter.get_input_details()\n",
    "    output_details = interpreter.get_output_details()\n",
    "\n",
    "    # Preprocess the image\n",
    "    img = Image.open(image_path).resize((224, 224))\n",
    "    img = np.array(img)\n",
    "    img = img.astype(np.float32) / 255.0\n",
    "\n",
    "    # Set the input tensor\n",
    "    input_data = np.expand_dims(img, axis=0)\n",
    "    input_data = input_data.astype(input_details[0]['dtype'])\n",
    "    interpreter.set_tensor(input_details[0]['index'], input_data)\n",
    "\n",
    "    # Run inference\n",
    "    interpreter.invoke()\n",
    "\n",
    "    # Get the folder names as class labels\n",
    "    label_names = sorted(os.listdir(label_path))\n",
    "\n",
    "    # Get the output tensor\n",
    "    output_tensor = interpreter.get_tensor(output_details[0]['index'])\n",
    "\n",
    "    # Postprocess the output\n",
    "    predicted_label_indices = np.argmax(output_tensor, axis=1)\n",
    "    predicted_labels = [label_names[index] for index in predicted_label_indices]\n",
    "    probabilities = output_tensor[0]\n",
    "\n",
    "    return predicted_labels[0], probabilities, label_names"
   ]
  },
  {
   "cell_type": "code",
   "execution_count": 22,
   "metadata": {},
   "outputs": [
    {
     "name": "stdout",
     "output_type": "stream",
     "text": [
      "File \t: Cauliflower__Black_Rot\n",
      "Predicted label \t: Cauliflower__club_root\n",
      "Probabilities:\n",
      "Cauliflower__Alternaria_Leaf_Spot \t: 0.003351315390318632\n",
      "Cauliflower__Bacterial_spot_rot \t: 0.18649044632911682\n",
      "Cauliflower__Black_Rot \t: 0.1585872769355774\n",
      "Cauliflower__Black_leg \t: 0.13751140236854553\n",
      "Cauliflower__Downy_Mildew \t: 0.03515874966979027\n",
      "Cauliflower__Powdery_mildew \t: 0.008177509531378746\n",
      "Cauliflower__White_rust \t: 0.026118120178580284\n",
      "Cauliflower__club_root \t: 0.2726014256477356\n",
      "Cauliflower__healthy \t: 0.09315390139818192\n",
      "Cauliflower__mosaic \t: 0.06162651628255844\n",
      "Cauliflower__ring_spot \t: 0.01722337119281292\n"
     ]
    }
   ],
   "source": [
    "model_path = './assets/cauli_disease.tflite'\n",
    "test_path = \"./data\\Plant Disease\\Plants Disease Dataset Subset\\Cauliflower/valid\"\n",
    "label_path = './data/Plant Disease/Plants Disease Dataset Subset/Cauliflower/train'\n",
    "plants_type = \"Cauliflower__Black_Rot\"\n",
    "\n",
    "\n",
    "folder_path = os.path.join(test_path, plants_type)\n",
    "files = os.listdir(folder_path)\n",
    "file_index = 4\n",
    "file_path = os.path.join(folder_path, files[file_index])\n",
    "\n",
    "predicted_label, prob, label = predict_plant_disease(file_path, model_path, label_path)\n",
    "print(\"File \\t:\", plants_type)\n",
    "print(\"Predicted label \\t:\", predicted_label)\n",
    "print(\"Probabilities:\")\n",
    "for class_name, prob in zip(label, prob):\n",
    "    print(f\"{class_name} \\t: {prob}\")"
   ]
  },
  {
   "cell_type": "code",
   "execution_count": null,
   "metadata": {},
   "outputs": [],
   "source": []
  }
 ],
 "metadata": {
  "kernelspec": {
   "display_name": "capstone",
   "language": "python",
   "name": "capstone"
  },
  "language_info": {
   "codemirror_mode": {
    "name": "ipython",
    "version": 3
   },
   "file_extension": ".py",
   "mimetype": "text/x-python",
   "name": "python",
   "nbconvert_exporter": "python",
   "pygments_lexer": "ipython3",
   "version": "3.11.1"
  },
  "orig_nbformat": 4
 },
 "nbformat": 4,
 "nbformat_minor": 2
}
